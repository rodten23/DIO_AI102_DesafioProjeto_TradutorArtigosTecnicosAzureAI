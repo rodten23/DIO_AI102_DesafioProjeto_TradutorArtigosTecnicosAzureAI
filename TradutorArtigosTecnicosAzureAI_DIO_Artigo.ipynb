{
  "nbformat": 4,
  "nbformat_minor": 0,
  "metadata": {
    "colab": {
      "provenance": []
    },
    "kernelspec": {
      "name": "python3",
      "display_name": "Python 3"
    },
    "language_info": {
      "name": "python"
    }
  },
  "cells": [
    {
      "cell_type": "code",
      "execution_count": 1,
      "metadata": {
        "colab": {
          "base_uri": "https://localhost:8080/"
        },
        "id": "QFZIEYvwsHHT",
        "outputId": "0f95c571-9b45-4636-b1fe-35a6d3d9edc4"
      },
      "outputs": [
        {
          "output_type": "stream",
          "name": "stdout",
          "text": [
            "Requirement already satisfied: requests in /usr/local/lib/python3.10/dist-packages (2.32.3)\n",
            "Requirement already satisfied: beautifulsoup4 in /usr/local/lib/python3.10/dist-packages (4.12.3)\n",
            "Requirement already satisfied: openai in /usr/local/lib/python3.10/dist-packages (1.54.4)\n",
            "Collecting langchain_openai\n",
            "  Downloading langchain_openai-0.2.10-py3-none-any.whl.metadata (2.6 kB)\n",
            "Requirement already satisfied: charset-normalizer<4,>=2 in /usr/local/lib/python3.10/dist-packages (from requests) (3.4.0)\n",
            "Requirement already satisfied: idna<4,>=2.5 in /usr/local/lib/python3.10/dist-packages (from requests) (3.10)\n",
            "Requirement already satisfied: urllib3<3,>=1.21.1 in /usr/local/lib/python3.10/dist-packages (from requests) (2.2.3)\n",
            "Requirement already satisfied: certifi>=2017.4.17 in /usr/local/lib/python3.10/dist-packages (from requests) (2024.8.30)\n",
            "Requirement already satisfied: soupsieve>1.2 in /usr/local/lib/python3.10/dist-packages (from beautifulsoup4) (2.6)\n",
            "Requirement already satisfied: anyio<5,>=3.5.0 in /usr/local/lib/python3.10/dist-packages (from openai) (3.7.1)\n",
            "Requirement already satisfied: distro<2,>=1.7.0 in /usr/local/lib/python3.10/dist-packages (from openai) (1.9.0)\n",
            "Requirement already satisfied: httpx<1,>=0.23.0 in /usr/local/lib/python3.10/dist-packages (from openai) (0.27.2)\n",
            "Requirement already satisfied: jiter<1,>=0.4.0 in /usr/local/lib/python3.10/dist-packages (from openai) (0.7.1)\n",
            "Requirement already satisfied: pydantic<3,>=1.9.0 in /usr/local/lib/python3.10/dist-packages (from openai) (2.9.2)\n",
            "Requirement already satisfied: sniffio in /usr/local/lib/python3.10/dist-packages (from openai) (1.3.1)\n",
            "Requirement already satisfied: tqdm>4 in /usr/local/lib/python3.10/dist-packages (from openai) (4.66.6)\n",
            "Requirement already satisfied: typing-extensions<5,>=4.11 in /usr/local/lib/python3.10/dist-packages (from openai) (4.12.2)\n",
            "Collecting langchain-core<0.4.0,>=0.3.21 (from langchain_openai)\n",
            "  Downloading langchain_core-0.3.21-py3-none-any.whl.metadata (6.3 kB)\n",
            "Collecting tiktoken<1,>=0.7 (from langchain_openai)\n",
            "  Downloading tiktoken-0.8.0-cp310-cp310-manylinux_2_17_x86_64.manylinux2014_x86_64.whl.metadata (6.6 kB)\n",
            "Requirement already satisfied: exceptiongroup in /usr/local/lib/python3.10/dist-packages (from anyio<5,>=3.5.0->openai) (1.2.2)\n",
            "Requirement already satisfied: httpcore==1.* in /usr/local/lib/python3.10/dist-packages (from httpx<1,>=0.23.0->openai) (1.0.7)\n",
            "Requirement already satisfied: h11<0.15,>=0.13 in /usr/local/lib/python3.10/dist-packages (from httpcore==1.*->httpx<1,>=0.23.0->openai) (0.14.0)\n",
            "Requirement already satisfied: PyYAML>=5.3 in /usr/local/lib/python3.10/dist-packages (from langchain-core<0.4.0,>=0.3.21->langchain_openai) (6.0.2)\n",
            "Requirement already satisfied: jsonpatch<2.0,>=1.33 in /usr/local/lib/python3.10/dist-packages (from langchain-core<0.4.0,>=0.3.21->langchain_openai) (1.33)\n",
            "Requirement already satisfied: langsmith<0.2.0,>=0.1.125 in /usr/local/lib/python3.10/dist-packages (from langchain-core<0.4.0,>=0.3.21->langchain_openai) (0.1.143)\n",
            "Requirement already satisfied: packaging<25,>=23.2 in /usr/local/lib/python3.10/dist-packages (from langchain-core<0.4.0,>=0.3.21->langchain_openai) (24.2)\n",
            "Requirement already satisfied: tenacity!=8.4.0,<10.0.0,>=8.1.0 in /usr/local/lib/python3.10/dist-packages (from langchain-core<0.4.0,>=0.3.21->langchain_openai) (9.0.0)\n",
            "Requirement already satisfied: annotated-types>=0.6.0 in /usr/local/lib/python3.10/dist-packages (from pydantic<3,>=1.9.0->openai) (0.7.0)\n",
            "Requirement already satisfied: pydantic-core==2.23.4 in /usr/local/lib/python3.10/dist-packages (from pydantic<3,>=1.9.0->openai) (2.23.4)\n",
            "Requirement already satisfied: regex>=2022.1.18 in /usr/local/lib/python3.10/dist-packages (from tiktoken<1,>=0.7->langchain_openai) (2024.9.11)\n",
            "Requirement already satisfied: jsonpointer>=1.9 in /usr/local/lib/python3.10/dist-packages (from jsonpatch<2.0,>=1.33->langchain-core<0.4.0,>=0.3.21->langchain_openai) (3.0.0)\n",
            "Requirement already satisfied: orjson<4.0.0,>=3.9.14 in /usr/local/lib/python3.10/dist-packages (from langsmith<0.2.0,>=0.1.125->langchain-core<0.4.0,>=0.3.21->langchain_openai) (3.10.11)\n",
            "Requirement already satisfied: requests-toolbelt<2.0.0,>=1.0.0 in /usr/local/lib/python3.10/dist-packages (from langsmith<0.2.0,>=0.1.125->langchain-core<0.4.0,>=0.3.21->langchain_openai) (1.0.0)\n",
            "Downloading langchain_openai-0.2.10-py3-none-any.whl (50 kB)\n",
            "\u001b[2K   \u001b[90m━━━━━━━━━━━━━━━━━━━━━━━━━━━━━━━━━━━━━━━━\u001b[0m \u001b[32m50.6/50.6 kB\u001b[0m \u001b[31m3.9 MB/s\u001b[0m eta \u001b[36m0:00:00\u001b[0m\n",
            "\u001b[?25hDownloading langchain_core-0.3.21-py3-none-any.whl (409 kB)\n",
            "\u001b[2K   \u001b[90m━━━━━━━━━━━━━━━━━━━━━━━━━━━━━━━━━━━━━━━━\u001b[0m \u001b[32m409.5/409.5 kB\u001b[0m \u001b[31m13.8 MB/s\u001b[0m eta \u001b[36m0:00:00\u001b[0m\n",
            "\u001b[?25hDownloading tiktoken-0.8.0-cp310-cp310-manylinux_2_17_x86_64.manylinux2014_x86_64.whl (1.2 MB)\n",
            "\u001b[2K   \u001b[90m━━━━━━━━━━━━━━━━━━━━━━━━━━━━━━━━━━━━━━━━\u001b[0m \u001b[32m1.2/1.2 MB\u001b[0m \u001b[31m23.8 MB/s\u001b[0m eta \u001b[36m0:00:00\u001b[0m\n",
            "\u001b[?25hInstalling collected packages: tiktoken, langchain-core, langchain_openai\n",
            "  Attempting uninstall: langchain-core\n",
            "    Found existing installation: langchain-core 0.3.19\n",
            "    Uninstalling langchain-core-0.3.19:\n",
            "      Successfully uninstalled langchain-core-0.3.19\n",
            "Successfully installed langchain-core-0.3.21 langchain_openai-0.2.10 tiktoken-0.8.0\n"
          ]
        }
      ],
      "source": [
        "!pip install requests beautifulsoup4 openai langchain_openai"
      ]
    },
    {
      "cell_type": "code",
      "source": [
        "import requests\n",
        "from bs4 import BeautifulSoup\n",
        "\n",
        "def extract_text_from_url(url):\n",
        "    response = requests.get(url)\n",
        "\n",
        "    if response.status_code == 200:\n",
        "      soup = BeautifulSoup(response.text, 'html.parser')\n",
        "      for script_or_style in soup(['script', 'style']):\n",
        "          script_or_style.extract()\n",
        "      texto = soup.get_text(separator=' ')\n",
        "      #Limpeza do texto\n",
        "      linhas = (line.strip() for line in texto.splitlines())\n",
        "      parts = (phrase.strip() for line in linhas for phrase in line.split(\"  \"))\n",
        "      texto_limpo = '\\n'.join(part for part in parts if part)\n",
        "      return texto_limpo\n",
        "\n",
        "    else:\n",
        "        print(f\"Failed to fetch the URL. Status code: {response.status_code}\")\n",
        "        return None\n",
        "\n",
        "\n",
        "extract_text_from_url('https://dev.to/dazevedo/ai-900-series-fundamental-principles-of-machine-learning-on-azure-50ol')"
      ],
      "metadata": {
        "colab": {
          "base_uri": "https://localhost:8080/",
          "height": 140
        },
        "id": "Z8B8wIEWtWOm",
        "outputId": "e86e9e8b-cb57-40b7-9c57-85995eadfafc"
      },
      "execution_count": 3,
      "outputs": [
        {
          "output_type": "execute_result",
          "data": {
            "text/plain": [
              "'AI-900 Series: Fundamental Principles of Machine Learning on Azure - DEV Community\\nSkip to content\\nNavigation menu\\nSearch\\nPowered by\\nSearch\\nAlgolia\\nSearch\\nLog in\\nCreate account\\nDEV Community\\nClose\\nAdd reaction\\nLike\\nUnicorn\\nExploding Head\\nRaised Hands\\nFire\\nJump to Comments\\nSave\\nBoost\\nMore...\\nCopy link\\nCopy link\\nCopied to Clipboard\\nShare to X\\nShare to LinkedIn\\nShare to Facebook\\nShare to Mastodon\\nReport Abuse\\nDaniel Azevedo\\nPosted on\\nOct 8\\nAI-900 Series: Fundamental Principles of Machine Learning on Azure\\n# ai\\n# azure\\n# machinelearning\\nAI-900 Series (5 Part Series)\\n1\\nAI-900 Series: Understanding AI Workloads and Considerations\\n2\\nAI-900 Series: Fundamental Principles of Machine Learning on Azure\\n3\\nAI-900 Series: Exploring Features of Computer Vision Workloads on Azure\\n4\\nAI-900 Series: Exploring Features of Natural Language Processing (NLP) Workloads on Azure\\n5\\nAI-900 Series: Exploring Features of Generative AI Workloads on Azure\\nHi devs :)\\nWelcome back to the second post in this series on preparing for the\\nMicrosoft AI-900 certification ! In the previous post, we covered the basics of\\nAI workloads . Now, let’s dive into the fundamental principles of\\nMachine Learning (ML)\\nand how it\\'s applied in\\nAzure .\\nMachine Learning is one of the core pillars of AI, and understanding its principles is key to leveraging the power of Azure’s AI capabilities.\\nWhat is Machine Learning?\\nAt its core,\\nMachine Learning (ML)\\nis about teaching computers to learn from data without being explicitly programmed. Rather than hard-coding rules for every possible scenario, we provide the machine with data, and it finds patterns or makes decisions based on that information.\\nML on Azure is designed to simplify and automate many parts of the process, making it accessible to both experienced data scientists and developers with less AI expertise.\\nThe Machine Learning Process\\nThe ML process typically involves the following key steps:\\nData Collection :\\nMachine Learning starts with data. Azure provides numerous tools for connecting, managing, and storing large datasets, such as\\nAzure Blob Storage\\nand\\nAzure SQL Database . Clean and relevant data is essential for model training.\\nData Preparation :\\nThis is one of the most critical and time-consuming steps. The data needs to be cleansed, structured, and transformed into a format suitable for training the model. Azure\\nMachine Learning Studio\\noffers tools to prepare, clean, and manipulate datasets.\\nModel Selection :\\nAzure offers a variety of pre-built models and algorithms. You can either use\\npre-trained models\\nfor common tasks (such as image recognition or sentiment analysis) or build your own custom model from scratch using Azure\\'s tools.\\nTraining the Model :\\nTraining is where the magic happens. The model is fed with data, and it adjusts its parameters to minimize error and improve accuracy. Azure makes this process scalable, allowing models to be trained on vast amounts of data using\\nAzure Machine Learning\\nservice.\\nEvaluation :\\nOnce the model is trained, it’s time to evaluate its performance. Metrics like\\naccuracy ,\\nprecision , and\\nrecall\\nare used to measure how well the model performs on unseen data.\\nDeployment :\\nAfter validating the model, it can be deployed as a web service or API using\\nAzure Kubernetes Service (AKS)\\nor\\nAzure Container Instances (ACI) . This allows businesses to integrate ML models into their applications with ease.\\nKey Principles of Machine Learning on Azure\\nAzure simplifies machine learning, but it’s important to understand the key principles that guide the process:\\n1.\\nSupervised vs. Unsupervised Learning :\\nSupervised Learning : In supervised learning, the model is trained on labeled data (data with known outcomes). It learns to predict outcomes for new, unseen data. For example, predicting house prices based on historical data.\\nUnsupervised Learning : In unsupervised learning, the model works with unlabeled data and tries to find hidden patterns. This could be clustering customers based on their behavior for marketing segmentation.\\n2.\\nModel Training and Testing :\\nAzure’s Machine Learning platform supports the process of splitting your dataset into\\ntraining\\nand\\ntesting\\nsets. The training set is used to teach the model, while the testing set evaluates how well the model generalizes to new data.\\n3.\\nScalability :\\nMachine Learning on Azure scales effortlessly. Whether you’re working with a small dataset or millions of data points, Azure’s distributed compute capabilities, like\\nAzure Databricks , allow for rapid model training and testing at scale.\\n4.\\nAutomation :\\nAzure supports automated machine learning (AutoML), which simplifies the model selection and tuning process. AutoML allows developers to automatically try different algorithms and hyperparameters to find the best model for their data.\\n5.\\nAI Ethics and Fairness :\\nMicrosoft places a strong emphasis on responsible AI. Azure tools help detect bias in models and ensure transparency and fairness in AI solutions. As a practitioner, understanding how to create ethical AI systems is a critical skill.\\nExample: Building a Salary Prediction Model on Azure\\nLet’s put these principles into a real-world example. Imagine a scenario where you want to predict employee salaries based on factors like experience, education level, and role.\\nData Collection : You gather historical data on employee salaries, roles, years of experience, and education level. You can use\\nAzure Blob Storage\\nto store this data.\\nData Preparation : Using\\nAzure Machine Learning Studio , you clean the data, handle missing values, and transform categorical variables (like job titles) into numerical form.\\nModel Selection : You choose a\\nregression model\\nsince you’re trying to predict a continuous value (salary). Azure provides various regression algorithms, such as\\nLinear Regression\\nor\\nDecision Trees .\\nTraining the Model : You split your data into training and testing sets and use Azure’s scalable compute resources to train your model.\\nEvaluation : After training, you evaluate the model’s accuracy by comparing the predicted salaries with actual values in your test set.\\nDeployment : Once satisfied with the results, you deploy the model as a web service using\\nAzure Kubernetes Service (AKS) , allowing it to be used in real-time by HR applications for salary predictions.\\nFinal Thoughts\\nMachine Learning is a powerful tool, and Azure provides a comprehensive platform for building, training, and deploying machine learning models. By understanding these core principles, you can start to create solutions that bring real value to your organization.\\nLet’s continue our journey to AI mastery!\\nAI-900 Series (5 Part Series)\\n1\\nAI-900 Series: Understanding AI Workloads and Considerations\\n2\\nAI-900 Series: Fundamental Principles of Machine Learning on Azure\\n3\\nAI-900 Series: Exploring Features of Computer Vision Workloads on Azure\\n4\\nAI-900 Series: Exploring Features of Natural Language Processing (NLP) Workloads on Azure\\n5\\nAI-900 Series: Exploring Features of Generative AI Workloads on Azure\\nTop comments\\n(0)\\nSubscribe\\nPersonal\\nTrusted User\\nCreate template\\nTemplates let you quickly answer FAQs or store snippets for re-use.\\nSubmit\\nPreview\\nDismiss\\nCode of Conduct\\n•\\nReport abuse\\nAre you sure you want to hide this comment? It will become hidden in your post, but will still be visible via the comment\\'s\\npermalink .\\nHide child comments as well\\nConfirm\\nFor further actions, you may consider blocking this person and/or\\nreporting abuse\\nRead next\\nThe Surprising Benefits of Smaller Language Models\\nAditya Pratap Bhuyan -\\nOct 28\\n\"Computer Use\" for UAT\\nSualeh Fatehi -\\nOct 28\\n\"Computer Use\" to Speed Up UI Development\\nSualeh Fatehi -\\nOct 28\\nIssue 71 of AWS Cloud Security Weekly\\nAJ -\\nNov 19\\nDaniel Azevedo\\nFollow\\nC# developer passionate about clean code and design patterns. Sharing insights on software architecture, coding best practices, and tech tips. Join me on this journey to better code!\\nLocation\\nPortugal\\nJoined\\nSep 2, 2024\\nMore from\\nDaniel Azevedo\\nJWT in Microservices\\n# security\\n# microservices\\n# json\\n# ai\\nEvent Broker Implementation in C# Using Azure Service Bus\\n# architecture\\n# cleancode\\n# azure\\n# eventdriven\\nGitHub Spark: Create Apps with Ease and No Code\\n# ai\\n# githubspark\\n# github\\n# gpt3\\nThank you to our Diamond Sponsor\\nNeon\\nfor supporting our community.\\nDEV Community\\n— A constructive and inclusive social network for software developers. With you every step of your journey.\\nHome\\nDEV++\\nPodcasts\\nVideos\\nTags\\nDEV Help\\nForem Shop\\nAdvertise on DEV\\nDEV Challenges\\nDEV Showcase\\nAbout\\nContact\\nFree Postgres Database\\nGuides\\nSoftware comparisons\\nCode of Conduct\\nPrivacy Policy\\nTerms of use\\nBuilt on\\nForem\\n— the\\nopen source\\nsoftware that powers\\nDEV\\nand other inclusive communities.\\nMade with love and\\nRuby on Rails . DEV Community\\n©\\n2016 - 2024.\\nWe\\'re a place where coders share, stay up-to-date and grow their careers.\\nLog in\\nCreate account'"
            ],
            "application/vnd.google.colaboratory.intrinsic+json": {
              "type": "string"
            }
          },
          "metadata": {},
          "execution_count": 3
        }
      ]
    },
    {
      "cell_type": "code",
      "source": [
        "from langchain_openai.chat_models.azure import AzureChatOpenAI\n",
        "\n",
        "client = AzureChatOpenAI(\n",
        "\n",
        ")"
      ],
      "metadata": {
        "id": "UairdbrpwZEV"
      },
      "execution_count": null,
      "outputs": []
    }
  ]
}