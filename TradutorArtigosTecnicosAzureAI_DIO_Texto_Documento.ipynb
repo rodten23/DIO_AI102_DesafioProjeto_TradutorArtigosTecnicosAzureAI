{
 "cells": [
  {
   "cell_type": "code",
   "execution_count": 1,
   "metadata": {
    "colab": {
     "base_uri": "https://localhost:8080/"
    },
    "id": "5S1wpvWOVNfo",
    "outputId": "b8cf87ae-b932-4b48-cbb2-8f8b63907473"
   },
   "outputs": [
    {
     "name": "stdout",
     "output_type": "stream",
     "text": [
      "Requirement already satisfied: requests in /usr/local/lib/python3.10/dist-packages (2.32.3)\n",
      "Collecting python-docx\n",
      "  Downloading python_docx-1.1.2-py3-none-any.whl.metadata (2.0 kB)\n",
      "Requirement already satisfied: charset-normalizer<4,>=2 in /usr/local/lib/python3.10/dist-packages (from requests) (3.4.0)\n",
      "Requirement already satisfied: idna<4,>=2.5 in /usr/local/lib/python3.10/dist-packages (from requests) (3.10)\n",
      "Requirement already satisfied: urllib3<3,>=1.21.1 in /usr/local/lib/python3.10/dist-packages (from requests) (2.2.3)\n",
      "Requirement already satisfied: certifi>=2017.4.17 in /usr/local/lib/python3.10/dist-packages (from requests) (2024.8.30)\n",
      "Requirement already satisfied: lxml>=3.1.0 in /usr/local/lib/python3.10/dist-packages (from python-docx) (5.3.0)\n",
      "Requirement already satisfied: typing-extensions>=4.9.0 in /usr/local/lib/python3.10/dist-packages (from python-docx) (4.12.2)\n",
      "Downloading python_docx-1.1.2-py3-none-any.whl (244 kB)\n",
      "\u001b[2K   \u001b[90m━━━━━━━━━━━━━━━━━━━━━━━━━━━━━━━━━━━━━━━━\u001b[0m \u001b[32m244.3/244.3 kB\u001b[0m \u001b[31m3.8 MB/s\u001b[0m eta \u001b[36m0:00:00\u001b[0m\n",
      "\u001b[?25hInstalling collected packages: python-docx\n",
      "Successfully installed python-docx-1.1.2\n"
     ]
    }
   ],
   "source": [
    "!pip install requests python-docx"
   ]
  },
  {
   "cell_type": "code",
   "execution_count": null,
   "metadata": {
    "id": "CMHowwU7VXZv"
   },
   "outputs": [],
   "source": [
    "import requests\n",
    "from docx import Document\n",
    "import os\n",
    "\n",
    "subscription_key = # YOUR SUBSCRIPTION_KEY\n",
    "endpoint = 'https://api.cognitive.microsofttranslator.com/'\n",
    "location = 'eastus2' #Região do recurso implantado no Azure\n",
    "language_destination = 'pt-br'"
   ]
  },
  {
   "cell_type": "code",
   "execution_count": 5,
   "metadata": {
    "id": "akbTjc89hykD"
   },
   "outputs": [],
   "source": [
    "def translator_text(text, target_language):\n",
    "  path = '/translate'\n",
    "  constructed_url = endpoint + path\n",
    "  headers = {\n",
    "      'Ocp-Apim-Subscription-Key': subscription_key,\n",
    "      'Ocp-Apim-Subscription-Region': location,\n",
    "      'Content-type': 'application/json',\n",
    "      'X-ClientTraceId': str(os.urandom(16))\n",
    "  }\n",
    "\n",
    "  body = [{\n",
    "      'text': text\n",
    "  }]\n",
    "  params = {\n",
    "      'api-version': '3.0',\n",
    "      'from': 'en',\n",
    "      'to': target_language\n",
    "  }\n",
    "  request = requests.post(constructed_url, params=params, headers=headers, json=body)\n",
    "  response = request.json()\n",
    "  return response[0][\"translations\"][0][\"text\"]"
   ]
  },
  {
   "cell_type": "code",
   "execution_count": 6,
   "metadata": {
    "colab": {
     "base_uri": "https://localhost:8080/",
     "height": 35
    },
    "id": "gV_aCJHolK0u",
    "outputId": "848f49e4-df42-41af-ec9f-88527ccdaf7e"
   },
   "outputs": [
    {
     "data": {
      "application/vnd.google.colaboratory.intrinsic+json": {
       "type": "string"
      },
      "text/plain": [
       "'Para perceber o que costumávamos ter'"
      ]
     },
     "execution_count": 6,
     "metadata": {},
     "output_type": "execute_result"
    }
   ],
   "source": [
    "translator_text('To realize what we used to have', language_destination)"
   ]
  },
  {
   "cell_type": "code",
   "execution_count": null,
   "metadata": {
    "colab": {
     "base_uri": "https://localhost:8080/",
     "height": 1000
    },
    "id": "gGPTYqHVmAGe",
    "outputId": "badb7ec2-daff-47b4-90d9-66bea964d21e"
   },
   "outputs": [
    {
     "name": "stdout",
     "output_type": "stream",
     "text": [
      "VAI CHOVER\n",
      "Bruno Mars\n",
      "\n",
      "Se você me deixar, baby\n",
      "Deixe um pouco de morfina na minha porta\n",
      "Porque seria preciso muita medicação\n",
      "Para perceber o que costumávamos ter\n",
      "Nós não temos mais\n",
      "\n",
      "Não há religião que possa me salvar\n",
      "Não importa quanto tempo meus joelhos estejam no chão, oh\n",
      "Então tenha em mente todos os sacrifícios que estou fazendo\n",
      "Para mantê-lo ao meu lado\n",
      "Para evitar que você saia pela porta\n",
      "\n",
      "Porque não haverá luz do sol\n",
      "Se eu perder você, baby\n",
      "Não haverá céu claro\n",
      "Se eu perder você, baby\n",
      "\n",
      "Assim como as nuvens, meus olhos farão o mesmo\n",
      "Se você for embora, todos os dias vai chover, chover, chover\n",
      "\n",
      "Eu nunca serei o favorito da sua mãe\n",
      "Seu pai não pode nem me olhar nos olhos, oh\n",
      "Se eu estivesse no lugar deles, estaria fazendo a mesma coisa\n",
      "Dizendo: Lá vai minha garotinha\n",
      "Andando com aquele cara problemático\n",
      "\n",
      "Mas eles estão com medo de algo que não conseguem entender, oh\n",
      "Mas, queridinha, me veja mudar de ideia\n",
      "Sim, para você, eu vou tentar, eu vou tentar, eu vou tentar, eu vou tentar\n",
      "\n",
      "E pegar esses pedaços quebrados até eu sangrar\n",
      "Se isso vai fazer você meu\n",
      "\n",
      "Porque não haverá luz do sol\n",
      "Se eu perder você, baby\n",
      "Não haverá céu claro\n",
      "Se eu perder você, baby\n",
      "\n",
      "Assim como as nuvens, meus olhos farão o mesmo\n",
      "Se você for embora, todos os dias vai chover, chover, chover\n",
      "\n",
      "Oh, não diga (não diga)\n",
      "Adeus (adeus)\n",
      "Não diga (não diga)\n",
      "Adeus (adeus)\n",
      "\n",
      "Vou pegar esses pedaços quebrados até sangrar\n",
      "Se isso vai fazer certo\n",
      "\n",
      "Porque não haverá luz do sol\n",
      "Se eu perder você, baby\n",
      "E não haverá céu claro\n",
      "Se eu perder você, baby\n",
      "\n",
      "E assim como as nuvens, meus olhos farão o mesmo\n",
      "Se você for embora, todos os dias vai chover, chover, chover\n"
     ]
    },
    {
     "data": {
      "application/vnd.google.colaboratory.intrinsic+json": {
       "type": "string"
      },
      "text/plain": [
       "'/content/ItWillRain_BrunoMars_(language_destination).docx'"
      ]
     },
     "execution_count": 14,
     "metadata": {},
     "output_type": "execute_result"
    }
   ],
   "source": [
    "def translate_document(path):\n",
    "  document = Document(path)\n",
    "  full_text = []\n",
    "  for paragraph in document.paragraphs:\n",
    "    translated_text = translator_text(paragraph.text, language_destination)\n",
    "    full_text.append(translated_text)\n",
    "\n",
    "  translated_doc = Document()\n",
    "  for line in full_text:\n",
    "    print(line)\n",
    "    translated_doc.add_paragraph(line)\n",
    "  path_translated = path.replace('.docx', f'_(language_destination).docx')\n",
    "  translated_doc.save(path_translated)\n",
    "  return path_translated\n",
    "\n",
    "input_file = './ItWillRain_BrunoMars.docx'\n",
    "translate_document(input_file)"
   ]
  }
 ],
 "metadata": {
  "colab": {
   "provenance": []
  },
  "kernelspec": {
   "display_name": "Python 3",
   "name": "python3"
  },
  "language_info": {
   "name": "python",
   "version": "3.12.3"
  }
 },
 "nbformat": 4,
 "nbformat_minor": 0
}
