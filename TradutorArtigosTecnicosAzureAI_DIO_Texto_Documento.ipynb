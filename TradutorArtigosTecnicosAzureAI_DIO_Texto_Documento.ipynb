{
 "cells": [
  {
   "cell_type": "code",
   "execution_count": 1,
   "metadata": {
    "colab": {
     "base_uri": "https://localhost:8080/"
    },
    "id": "5S1wpvWOVNfo",
    "outputId": "b8cf87ae-b932-4b48-cbb2-8f8b63907473"
   },
   "outputs": [
    {
     "name": "stdout",
     "output_type": "stream",
     "text": [
      "Requirement already satisfied: requests in /home/rodten23/.pyenv/versions/3.13.1/lib/python3.13/site-packages (2.32.5)\n",
      "Collecting python-docx\n",
      "  Downloading python_docx-1.2.0-py3-none-any.whl.metadata (2.0 kB)\n",
      "Requirement already satisfied: charset_normalizer<4,>=2 in /home/rodten23/.pyenv/versions/3.13.1/lib/python3.13/site-packages (from requests) (3.4.3)\n",
      "Requirement already satisfied: idna<4,>=2.5 in /home/rodten23/.pyenv/versions/3.13.1/lib/python3.13/site-packages (from requests) (3.10)\n",
      "Requirement already satisfied: urllib3<3,>=1.21.1 in /home/rodten23/.pyenv/versions/3.13.1/lib/python3.13/site-packages (from requests) (2.5.0)\n",
      "Requirement already satisfied: certifi>=2017.4.17 in /home/rodten23/.pyenv/versions/3.13.1/lib/python3.13/site-packages (from requests) (2025.1.31)\n",
      "Collecting lxml>=3.1.0 (from python-docx)\n",
      "  Downloading lxml-6.0.2-cp313-cp313-manylinux_2_26_x86_64.manylinux_2_28_x86_64.whl.metadata (3.6 kB)\n",
      "Requirement already satisfied: typing_extensions>=4.9.0 in /home/rodten23/.pyenv/versions/3.13.1/lib/python3.13/site-packages (from python-docx) (4.15.0)\n",
      "Downloading python_docx-1.2.0-py3-none-any.whl (252 kB)\n",
      "Downloading lxml-6.0.2-cp313-cp313-manylinux_2_26_x86_64.manylinux_2_28_x86_64.whl (5.2 MB)\n",
      "\u001b[2K   \u001b[90m━━━━━━━━━━━━━━━━━━━━━━━━━━━━━━━━━━━━━━━━\u001b[0m \u001b[32m5.2/5.2 MB\u001b[0m \u001b[31m41.6 MB/s\u001b[0m eta \u001b[36m0:00:00\u001b[0m\n",
      "\u001b[?25hInstalling collected packages: lxml, python-docx\n",
      "\u001b[2K   \u001b[90m━━━━━━━━━━━━━━━━━━━━━━━━━━━━━━━━━━━━━━━━\u001b[0m \u001b[32m2/2\u001b[0m [python-docx]\u001b[0m [python-docx]\n",
      "\u001b[1A\u001b[2KSuccessfully installed lxml-6.0.2 python-docx-1.2.0\n",
      "\n",
      "\u001b[1m[\u001b[0m\u001b[34;49mnotice\u001b[0m\u001b[1;39;49m]\u001b[0m\u001b[39;49m A new release of pip is available: \u001b[0m\u001b[31;49m25.1.1\u001b[0m\u001b[39;49m -> \u001b[0m\u001b[32;49m25.2\u001b[0m\n",
      "\u001b[1m[\u001b[0m\u001b[34;49mnotice\u001b[0m\u001b[1;39;49m]\u001b[0m\u001b[39;49m To update, run: \u001b[0m\u001b[32;49mpip install --upgrade pip\u001b[0m\n"
     ]
    }
   ],
   "source": [
    "!pip install requests python-docx"
   ]
  },
  {
   "cell_type": "code",
   "execution_count": null,
   "metadata": {
    "id": "CMHowwU7VXZv"
   },
   "outputs": [],
   "source": [
    "import requests\n",
    "from docx import Document\n",
    "import os\n",
    "\n",
    "subscription_key = # YOUR SUBSCRIPTION_KEY\n",
    "endpoint = 'https://api.cognitive.microsofttranslator.com/'\n",
    "location = 'eastus' #Região do recurso implantado no Azure\n",
    "language_destination = 'pt-br'"
   ]
  },
  {
   "cell_type": "code",
   "execution_count": 9,
   "metadata": {
    "id": "akbTjc89hykD"
   },
   "outputs": [],
   "source": [
    "def translator_text(text, target_language):\n",
    "  path = '/translate'\n",
    "  constructed_url = endpoint + path\n",
    "  headers = {\n",
    "      'Ocp-Apim-Subscription-Key': subscription_key,\n",
    "      'Ocp-Apim-Subscription-Region': location,\n",
    "      'Content-type': 'application/json',\n",
    "      'X-ClientTraceId': str(os.urandom(16))\n",
    "  }\n",
    "\n",
    "  body = [{\n",
    "      'text': text\n",
    "  }]\n",
    "  params = {\n",
    "      'api-version': '3.0',\n",
    "      'from': 'en',\n",
    "      'to': target_language\n",
    "  }\n",
    "  request = requests.post(constructed_url, params=params, headers=headers, json=body)\n",
    "  response = request.json()\n",
    "  return response[0][\"translations\"][0][\"text\"]"
   ]
  },
  {
   "cell_type": "code",
   "execution_count": 12,
   "metadata": {
    "colab": {
     "base_uri": "https://localhost:8080/",
     "height": 35
    },
    "id": "gV_aCJHolK0u",
    "outputId": "848f49e4-df42-41af-ec9f-88527ccdaf7e"
   },
   "outputs": [
    {
     "data": {
      "text/plain": [
       "'Com a campanha Artemis da NASA, estamos explorando a Lua para descobertas científicas, avanços tecnológicos e para aprender a viver e trabalhar em outro mundo enquanto nos preparamos para missões humanas a Marte. Colaboraremos com parceiros comerciais e internacionais e estabeleceremos a primeira presença de longo prazo na Lua.'"
      ]
     },
     "execution_count": 12,
     "metadata": {},
     "output_type": "execute_result"
    }
   ],
   "source": [
    "translator_text('With NASA’s Artemis campaign, we are exploring the Moon for scientific discovery, technology advancement, and to learn how to live and work on another world as we prepare for human missions to Mars. We will collaborate with commercial and international partners and establish the first long-term presence on the Moon.', language_destination)"
   ]
  },
  {
   "cell_type": "code",
   "execution_count": 13,
   "metadata": {
    "colab": {
     "base_uri": "https://localhost:8080/",
     "height": 1000
    },
    "id": "gGPTYqHVmAGe",
    "outputId": "badb7ec2-daff-47b4-90d9-66bea964d21e"
   },
   "outputs": [
    {
     "name": "stdout",
     "output_type": "stream",
     "text": [
      "VAI CHOVER\n",
      "Bruno Mars\n",
      "\n",
      "Se você me deixar, baby\n",
      "Deixe um pouco de morfina na minha porta\n",
      "Porque seria preciso muita medicação\n",
      "Para perceber o que costumávamos ter\n",
      "Nós não temos mais\n",
      "\n",
      "Não há religião que possa me salvar\n",
      "Não importa quanto tempo meus joelhos estejam no chão, oh\n",
      "Então tenha em mente todos os sacrifícios que estou fazendo\n",
      "Para mantê-lo ao meu lado\n",
      "Para evitar que você saia pela porta\n",
      "\n",
      "Porque não haverá luz do sol\n",
      "Se eu perder você, baby\n",
      "Não haverá céu claro\n",
      "Se eu perder você, baby\n",
      "\n",
      "Assim como as nuvens, meus olhos farão o mesmo\n",
      "Se você for embora, todos os dias vai chover, chover, chover\n",
      "\n",
      "Eu nunca serei o favorito da sua mãe\n",
      "Seu pai não pode nem me olhar nos olhos, oh\n",
      "Se eu estivesse no lugar deles, estaria fazendo a mesma coisa\n",
      "Dizendo: Lá vai minha garotinha\n",
      "Andando com aquele cara problemático\n",
      "\n",
      "Mas eles estão com medo de algo que não conseguem entender, oh\n",
      "Mas, queridinha, me veja mudar de ideia\n",
      "Sim, para você, eu vou tentar, eu vou tentar, eu vou tentar, eu vou tentar\n",
      "\n",
      "E pegar esses pedaços quebrados até eu sangrar\n",
      "Se isso vai fazer você meu\n",
      "\n",
      "Porque não haverá luz do sol\n",
      "Se eu perder você, baby\n",
      "Não haverá céu claro\n",
      "Se eu perder você, baby\n",
      "\n",
      "Assim como as nuvens, meus olhos farão o mesmo\n",
      "Se você for embora, todos os dias vai chover, chover, chover\n",
      "\n",
      "Oh, não diga (não diga)\n",
      "Adeus (adeus)\n",
      "Não diga (não diga)\n",
      "Adeus (adeus)\n",
      "\n",
      "Vou pegar esses pedaços quebrados até sangrar\n",
      "Se isso vai fazer certo\n",
      "\n",
      "Porque não haverá luz do sol\n",
      "Se eu perder você, baby\n",
      "E não haverá céu claro\n",
      "Se eu perder você, baby\n",
      "\n",
      "E assim como as nuvens, meus olhos farão o mesmo\n",
      "Se você for embora, todos os dias vai chover, chover, chover\n"
     ]
    },
    {
     "data": {
      "text/plain": [
       "'./ItWillRain_BrunoMars_pt-br.docx'"
      ]
     },
     "execution_count": 13,
     "metadata": {},
     "output_type": "execute_result"
    }
   ],
   "source": [
    "def translate_document(path):\n",
    "  document = Document(path)\n",
    "  full_text = []\n",
    "  for paragraph in document.paragraphs:\n",
    "    translated_text = translator_text(paragraph.text, language_destination)\n",
    "    full_text.append(translated_text)\n",
    "\n",
    "  translated_doc = Document()\n",
    "  for line in full_text:\n",
    "    print(line)\n",
    "    translated_doc.add_paragraph(line)\n",
    "  path_translated = path.replace('.docx', f'_{language_destination}.docx')\n",
    "  translated_doc.save(path_translated)\n",
    "  return path_translated\n",
    "\n",
    "input_file = './ItWillRain_BrunoMars.docx'\n",
    "translate_document(input_file)"
   ]
  }
 ],
 "metadata": {
  "colab": {
   "provenance": []
  },
  "kernelspec": {
   "display_name": "3.13.1",
   "language": "python",
   "name": "python3"
  },
  "language_info": {
   "codemirror_mode": {
    "name": "ipython",
    "version": 3
   },
   "file_extension": ".py",
   "mimetype": "text/x-python",
   "name": "python",
   "nbconvert_exporter": "python",
   "pygments_lexer": "ipython3",
   "version": "3.13.1"
  }
 },
 "nbformat": 4,
 "nbformat_minor": 0
}
